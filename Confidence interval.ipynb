{
 "cells": [
  {
   "cell_type": "code",
   "execution_count": 1,
   "metadata": {},
   "outputs": [],
   "source": [
    "import numpy as np\n",
    "import pandas as pd\n",
    "import matplotlib.pyplot as plt\n",
    "import scipy.stats as scs\n",
    "\n",
    "penguins = pd.read_csv('./Data/penguins.csv')\n",
    "penguins.dropna(inplace=True)\n"
   ]
  },
  {
   "cell_type": "code",
   "execution_count": 2,
   "metadata": {},
   "outputs": [
    {
     "data": {
      "text/html": [
       "<div>\n",
       "<style scoped>\n",
       "    .dataframe tbody tr th:only-of-type {\n",
       "        vertical-align: middle;\n",
       "    }\n",
       "\n",
       "    .dataframe tbody tr th {\n",
       "        vertical-align: top;\n",
       "    }\n",
       "\n",
       "    .dataframe thead th {\n",
       "        text-align: right;\n",
       "    }\n",
       "</style>\n",
       "<table border=\"1\" class=\"dataframe\">\n",
       "  <thead>\n",
       "    <tr style=\"text-align: right;\">\n",
       "      <th></th>\n",
       "      <th>species</th>\n",
       "      <th>island</th>\n",
       "      <th>bill_length_mm</th>\n",
       "      <th>bill_depth_mm</th>\n",
       "      <th>flipper_length_mm</th>\n",
       "      <th>body_mass_g</th>\n",
       "      <th>sex</th>\n",
       "      <th>year</th>\n",
       "    </tr>\n",
       "  </thead>\n",
       "  <tbody>\n",
       "    <tr>\n",
       "      <th>0</th>\n",
       "      <td>Adelie</td>\n",
       "      <td>Torgersen</td>\n",
       "      <td>39.1</td>\n",
       "      <td>18.7</td>\n",
       "      <td>181.0</td>\n",
       "      <td>3750.0</td>\n",
       "      <td>male</td>\n",
       "      <td>2007</td>\n",
       "    </tr>\n",
       "    <tr>\n",
       "      <th>1</th>\n",
       "      <td>Adelie</td>\n",
       "      <td>Torgersen</td>\n",
       "      <td>39.5</td>\n",
       "      <td>17.4</td>\n",
       "      <td>186.0</td>\n",
       "      <td>3800.0</td>\n",
       "      <td>female</td>\n",
       "      <td>2007</td>\n",
       "    </tr>\n",
       "    <tr>\n",
       "      <th>2</th>\n",
       "      <td>Adelie</td>\n",
       "      <td>Torgersen</td>\n",
       "      <td>40.3</td>\n",
       "      <td>18.0</td>\n",
       "      <td>195.0</td>\n",
       "      <td>3250.0</td>\n",
       "      <td>female</td>\n",
       "      <td>2007</td>\n",
       "    </tr>\n",
       "    <tr>\n",
       "      <th>4</th>\n",
       "      <td>Adelie</td>\n",
       "      <td>Torgersen</td>\n",
       "      <td>36.7</td>\n",
       "      <td>19.3</td>\n",
       "      <td>193.0</td>\n",
       "      <td>3450.0</td>\n",
       "      <td>female</td>\n",
       "      <td>2007</td>\n",
       "    </tr>\n",
       "    <tr>\n",
       "      <th>5</th>\n",
       "      <td>Adelie</td>\n",
       "      <td>Torgersen</td>\n",
       "      <td>39.3</td>\n",
       "      <td>20.6</td>\n",
       "      <td>190.0</td>\n",
       "      <td>3650.0</td>\n",
       "      <td>male</td>\n",
       "      <td>2007</td>\n",
       "    </tr>\n",
       "  </tbody>\n",
       "</table>\n",
       "</div>"
      ],
      "text/plain": [
       "  species     island  bill_length_mm  bill_depth_mm  flipper_length_mm  \\\n",
       "0  Adelie  Torgersen            39.1           18.7              181.0   \n",
       "1  Adelie  Torgersen            39.5           17.4              186.0   \n",
       "2  Adelie  Torgersen            40.3           18.0              195.0   \n",
       "4  Adelie  Torgersen            36.7           19.3              193.0   \n",
       "5  Adelie  Torgersen            39.3           20.6              190.0   \n",
       "\n",
       "   body_mass_g     sex  year  \n",
       "0       3750.0    male  2007  \n",
       "1       3800.0  female  2007  \n",
       "2       3250.0  female  2007  \n",
       "4       3450.0  female  2007  \n",
       "5       3650.0    male  2007  "
      ]
     },
     "execution_count": 2,
     "metadata": {},
     "output_type": "execute_result"
    }
   ],
   "source": [
    "penguins.head()"
   ]
  },
  {
   "cell_type": "markdown",
   "metadata": {},
   "source": [
    "### Example: Confidence Interval for the Mean\n",
    "Construct a 95% confidence interval for the mean weight of Adelie penguins."
   ]
  },
  {
   "cell_type": "code",
   "execution_count": 3,
   "metadata": {},
   "outputs": [],
   "source": [
    "from scipy.stats import t\n",
    "\n",
    "adelie = penguins[penguins['species'] == 'Adelie']"
   ]
  },
  {
   "cell_type": "code",
   "execution_count": 5,
   "metadata": {},
   "outputs": [],
   "source": [
    "adelie_mean = np.mean(adelie['body_mass_g'])\n",
    "adelie_std = np.std(adelie['body_mass_g'], ddof = 1)\n",
    "adelie_n = len (adelie['body_mass_g'])\n",
    "\n",
    "alpha = 0.05 # set significance level\n",
    "t_crit = t.ppf(1-alpha/2, adelie_n-1)\n",
    "sem = adelie_std / np.sqrt(adelie_n)\n",
    "\n",
    "upper = adelie_mean + t_crit*sem\n",
    "lower = adelie_mean - t_crit*sem"
   ]
  },
  {
   "cell_type": "markdown",
   "metadata": {},
   "source": [
    "t.ppf(q, df, loc=0, scale=1)\n",
    "\n",
    "Percent point function (inverse of cdf — percentiles)."
   ]
  },
  {
   "cell_type": "markdown",
   "metadata": {},
   "source": [
    "q: Квантиль (percentile), т.е., вероятность, на основе которой мы хотим вычислить квантиль. Например, если q=0.95, то это означает, что мы хотим найти квантиль, при котором 95% данных находятся слева от него.  \n",
    "\n",
    "df: Число степеней свободы распределения t. Это параметр, который определяет форму распределения и связан с размером выборки (n) как df = n - 1.  \n",
    "\n",
    "loc: Смещение (по умолчанию равно 0). Этот параметр используется для задания смещения распределения. \n",
    "\n",
    "scale: Масштаб (по умолчанию равен 1). Этот параметр используется для задания масштаба распределения."
   ]
  },
  {
   "cell_type": "code",
   "execution_count": null,
   "metadata": {},
   "outputs": [
    {
     "data": {
      "text/plain": [
       "(3631.1, 3781.2)"
      ]
     },
     "execution_count": 13,
     "metadata": {},
     "output_type": "execute_result"
    }
   ],
   "source": [
    "round (lower, 1), round (upper, 1)"
   ]
  },
  {
   "cell_type": "code",
   "execution_count": null,
   "metadata": {},
   "outputs": [
    {
     "name": "stdout",
     "output_type": "stream",
     "text": [
      "Confidence interval (α = 0.05) for average weight of \"Adelie\" penguins: 3706.2 ± 75.0\n"
     ]
    }
   ],
   "source": [
    "print ('Confidence interval (\\u03B1 = 0.05) for average weight of \"Adelie\" penguins: ' + str (round(adelie_mean, 1)) + ' \\u00B1 ' + \n",
    "                                                                                              str (round (t_crit*sem,1)))"
   ]
  },
  {
   "cell_type": "markdown",
   "metadata": {},
   "source": [
    "<strong>Men, istället för att krångla till det med massa explicita beräkningar så kan vi använda oss av inbyggda funktioner i SciPy.</strong> SciPys t-modul har en schysst funktion för beräkning av konfidensintervall som heter interval(). Vi ger den helt enkelt vårt önskade konfidens (0.95, eller 1-alpha), antalet frihetsgrader, stickprovsmedelvärde, samt stickprovets standard error. Notera här att det är standard error ($s/\\sqrt{n}$) som skall anges, och inte standardavvikelse ($s$). Standard error kan vi räkna ut m.h.a. funktionen <code>sem()</code> i SciPy."
   ]
  },
  {
   "cell_type": "code",
   "execution_count": null,
   "metadata": {},
   "outputs": [
    {
     "name": "stdout",
     "output_type": "stream",
     "text": [
      "Confidence interval (α = 0.05) for average weight of \"Adelie\" penguins: 3706.2 ± 75.0\n"
     ]
    }
   ],
   "source": [
    "sem = scs.sem(adelie['body_mass_g'])\n",
    "\n",
    "lower, upper = t.interval (confidence = 1-alpha, df = n-1, loc = adelie_mean, scale = sem)\n",
    "\n",
    "print ('Confidence interval (\\u03B1 = 0.05) for average weight of \"Adelie\" penguins: ' + str (round(adelie_mean, 1)) + ' \\u00B1 ' + \n",
    "                                                                                              str (round (t_crit*sem,1)))"
   ]
  },
  {
   "cell_type": "markdown",
   "metadata": {},
   "source": [
    "## Confidence interval for proportions (probability)\n",
    "\n",
    "Construct a 95% confidence interval for the proportion of Adelie penguins living on the island 'Torgersen'."
   ]
  },
  {
   "cell_type": "code",
   "execution_count": 7,
   "metadata": {},
   "outputs": [],
   "source": [
    "from scipy.stats import norm\n",
    "\n",
    "torgersen = adelie[adelie['island'] == 'Torgersen']\n",
    "\n",
    "prop_torg = len(torgersen)/len(adelie)\n",
    "n_adelie = len(adelie)\n",
    "alpha = 0.05"
   ]
  },
  {
   "cell_type": "markdown",
   "metadata": {},
   "source": [
    "The test statistic $\\hat{p}$ above is valid only when $n\\hat{p}\\geq5$ and $n(1-\\hat{p})\\geq5$, so it's always good to double-check to ensure that you are not in a domain where your approximation does not hold."
   ]
  },
  {
   "cell_type": "code",
   "execution_count": null,
   "metadata": {},
   "outputs": [
    {
     "data": {
      "text/plain": [
       "(47.0, 99.0)"
      ]
     },
     "execution_count": 11,
     "metadata": {},
     "output_type": "execute_result"
    }
   ],
   "source": [
    "n_adelie*prop_torg, n_adelie*(1-prop_torg)"
   ]
  },
  {
   "cell_type": "code",
   "execution_count": 15,
   "metadata": {},
   "outputs": [
    {
     "data": {
      "text/plain": [
       "(0.25, 0.4)"
      ]
     },
     "execution_count": 15,
     "metadata": {},
     "output_type": "execute_result"
    }
   ],
   "source": [
    "z_crit = norm.ppf(1-alpha/2)\n",
    "sem = np.sqrt(prop_torg*(1-prop_torg)/(n_adelie-1))\n",
    "\n",
    "upper = prop_torg + z_crit*sem\n",
    "lower = prop_torg - z_crit*sem\n",
    "\n",
    "round(lower,2), round (upper,2)"
   ]
  },
  {
   "cell_type": "code",
   "execution_count": 16,
   "metadata": {},
   "outputs": [
    {
     "name": "stdout",
     "output_type": "stream",
     "text": [
      "Confidence interval (α = 0.05) for proportion of Torgersen \"Adelie\" penguins relative to total \"Adelie\" penguins: 0.32 ± 0.08\n"
     ]
    }
   ],
   "source": [
    "print('Confidence interval (\\u03B1 = 0.05) for proportion of Torgersen \"Adelie\" penguins relative to total \"Adelie\" penguins: ' + \n",
    "      str (round(prop_torg,2)) +  ' \\u00B1 ' + str(round(z_crit*sem,2)))"
   ]
  },
  {
   "cell_type": "markdown",
   "metadata": {},
   "source": [
    "Inbyggd funktion:"
   ]
  },
  {
   "cell_type": "code",
   "execution_count": 17,
   "metadata": {},
   "outputs": [
    {
     "name": "stdout",
     "output_type": "stream",
     "text": [
      "Confidence interval (α = 0.05) for proportion of Torgersen \"Adelie\" penguins relative to total \"Adelie\" penguins: 0.32 ± 0.08\n"
     ]
    }
   ],
   "source": [
    "from statsmodels.stats import proportion\n",
    "\n",
    "lower, upper = proportion.proportion_confint(len(torgersen), len(adelie), alpha= alpha, method = 'normal')\n",
    "\n",
    "print('Confidence interval (\\u03B1 = 0.05) for proportion of Torgersen \"Adelie\" penguins relative to total \"Adelie\" penguins: ' + \n",
    "      str (round(prop_torg,2)) +  ' \\u00B1 ' + str(round(z_crit*sem,2)))"
   ]
  }
 ],
 "metadata": {
  "kernelspec": {
   "display_name": "GitHub-ARbJjTr-",
   "language": "python",
   "name": "python3"
  },
  "language_info": {
   "codemirror_mode": {
    "name": "ipython",
    "version": 3
   },
   "file_extension": ".py",
   "mimetype": "text/x-python",
   "name": "python",
   "nbconvert_exporter": "python",
   "pygments_lexer": "ipython3",
   "version": "3.11.5"
  }
 },
 "nbformat": 4,
 "nbformat_minor": 2
}
