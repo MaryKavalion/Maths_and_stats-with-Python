{
 "cells": [
  {
   "cell_type": "code",
   "execution_count": 1,
   "metadata": {},
   "outputs": [
    {
     "name": "stdout",
     "output_type": "stream",
     "text": [
      "(Matrix([\n",
      "[1, 0, 0, 10],\n",
      "[0, 1, 0,  6],\n",
      "[0, 0, 1,  3]]), (0, 1, 2))\n"
     ]
    }
   ],
   "source": [
    "import sympy\n",
    "\n",
    "M = sympy.Matrix([[1, -2, 1, 1],\n",
    "                  [2, -6, 6, 2],\n",
    "                  [-3, 5, 1, 3]\n",
    "])\n",
    "\n",
    "print(M.rref())"
   ]
  }
 ],
 "metadata": {
  "kernelspec": {
   "display_name": "GitHub-ARbJjTr-",
   "language": "python",
   "name": "python3"
  },
  "language_info": {
   "codemirror_mode": {
    "name": "ipython",
    "version": 3
   },
   "file_extension": ".py",
   "mimetype": "text/x-python",
   "name": "python",
   "nbconvert_exporter": "python",
   "pygments_lexer": "ipython3",
   "version": "3.11.5"
  }
 },
 "nbformat": 4,
 "nbformat_minor": 2
}
