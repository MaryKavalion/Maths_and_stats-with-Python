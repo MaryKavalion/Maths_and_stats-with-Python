{
 "cells": [
  {
   "cell_type": "markdown",
   "metadata": {},
   "source": [
    "# scipy.stats\n",
    "\n",
    "This module contains a large number of probability distributions, summary and frequency statistics, correlation functions and statistical tests, masked statistics, kernel density estimation, quasi-Monte Carlo functionality, and more.\n",
    "\n",
    "Några av de vanligaste använda funktionerna är:\n",
    "\n",
    "<li>rvs() - random variates - Den här funktionen ger en NumPy-array med slumpmässiga värden från den givna fördelningen.</li>\n",
    "<li>pmf() - probability mass function - Den här funktionen beräknar sannolikheten P(X=x) i en given punkt.</li>\n",
    "<li>cdf() - cumulative distribution function - Den här funktionen beräknar den kumulativa sannolikheten i en given punkt P(X $\\leq$ x) = F(x).</li>\n",
    "<li>stats() - Den här funktionen beräknar medelvärde, varians, skevhet, samt kurtosis (kurtosis är inte del av kursens innehåll).</li>\n",
    "<li>interval() - Den här funktionen beräknar ett konfidensintervall, kommer mest användas med normal- och t-fördelningen.</li>\n",
    "</ul>"
   ]
  },
  {
   "cell_type": "markdown",
   "metadata": {},
   "source": [
    "## Binomial distribution"
   ]
  },
  {
   "cell_type": "code",
   "execution_count": 25,
   "metadata": {},
   "outputs": [],
   "source": [
    "from scipy.stats import binom"
   ]
  },
  {
   "cell_type": "code",
   "execution_count": 26,
   "metadata": {},
   "outputs": [
    {
     "name": "stdout",
     "output_type": "stream",
     "text": [
      "Mean 3.0\n",
      "Variance 2.7\n"
     ]
    }
   ],
   "source": [
    "p = 0.1\n",
    "n = 30\n",
    "\n",
    "mean, var = binom.stats (n=n, p=p)\n",
    "print ('Mean ' + str(mean))\n",
    "print ('Variance ' + str(var))"
   ]
  },
  {
   "cell_type": "code",
   "execution_count": 27,
   "metadata": {},
   "outputs": [
    {
     "name": "stdout",
     "output_type": "stream",
     "text": [
      "P(X=2) = 0.22765622036690183\n"
     ]
    }
   ],
   "source": [
    "result = binom.pmf (k=2, n=n, p=p) #probability P(X=2)\n",
    "\n",
    "print (f\"P(X=2) = {result}\")"
   ]
  },
  {
   "cell_type": "code",
   "execution_count": 28,
   "metadata": {},
   "outputs": [
    {
     "name": "stdout",
     "output_type": "stream",
     "text": [
      "P(X>=2) = 0.8163049808073962\n"
     ]
    }
   ],
   "source": [
    "# P (X>=2)\n",
    "\n",
    "result = 1 - binom.cdf(k = 1, n = n, p = p)\n",
    "\n",
    "print (f\"P(X>=2) = {result}\")\n"
   ]
  },
  {
   "cell_type": "markdown",
   "metadata": {},
   "source": [
    "## Poisson distribution"
   ]
  },
  {
   "cell_type": "code",
   "execution_count": 29,
   "metadata": {},
   "outputs": [],
   "source": [
    "from scipy.stats import poisson"
   ]
  },
  {
   "cell_type": "markdown",
   "metadata": {},
   "source": [
    "Метод stats в poisson представляет собой функцию, используемую для вычисления статистических характеристик распределения случайной величины. В частности, этот метод предназначен для вычисления среднего значения (mean), дисперсии (variance), асимметрии (skew) и/или эксцесса (kurtosis) распределения.\n",
    "\n",
    "Вот параметры метода:\n",
    "\n",
    "stats(mu, loc=0, moments=’mv’) \\nMean(‘m’), variance(‘v’), skew(‘s’), and/or kurtosis(‘k’).  \n",
    "mu: Среднее значение (mean) распределения.  \n",
    "loc: Параметр, определяющий положение центра распределения (обычно используется как смещение относительно нуля). По умолчанию loc=0.  \n",
    "moments: Строка, определяющая, какие статистические моменты нужно вычислить. Возможные значения для moments:  \n",
    "'m': Среднее значение (mean).  \n",
    "'v': Дисперсия (variance).  \n",
    "'s': Асимметрия (skewness).  \n",
    "'k': Эксцесс (kurtosis).  \n",
    "Например:"
   ]
  },
  {
   "cell_type": "code",
   "execution_count": 30,
   "metadata": {},
   "outputs": [
    {
     "name": "stdout",
     "output_type": "stream",
     "text": [
      "Mean: 2.4\n",
      "Variance: 2.4\n"
     ]
    }
   ],
   "source": [
    "mu = 2.4\n",
    "\n",
    "mean, var = poisson.stats (mu = mu)\n",
    "\n",
    "print(\"Mean: \" + str(mean))\n",
    "print(\"Variance: \" + str(var))"
   ]
  },
  {
   "cell_type": "markdown",
   "metadata": {},
   "source": [
    "pmf(k, mu, loc=0): probability mass function."
   ]
  },
  {
   "cell_type": "code",
   "execution_count": 31,
   "metadata": {},
   "outputs": [
    {
     "name": "stdout",
     "output_type": "stream",
     "text": [
      "P(x=3) = 0.20901416437880638\n"
     ]
    }
   ],
   "source": [
    "probability3 = poisson.pmf(k=3, mu = mu)\n",
    "\n",
    "print(\"P(x=3) = \" + str(probability3))"
   ]
  },
  {
   "cell_type": "markdown",
   "metadata": {},
   "source": [
    "cdf(k, mu, loc=0): cumulative distribution function."
   ]
  },
  {
   "cell_type": "code",
   "execution_count": 32,
   "metadata": {},
   "outputs": [
    {
     "name": "stdout",
     "output_type": "stream",
     "text": [
      "P(X<=1) = 0.30844104118400245\n"
     ]
    }
   ],
   "source": [
    "probability_lessorequal1 = poisson.cdf(k=1, mu = mu)\n",
    "\n",
    "print('P(X<=1) = ' + str(probability_lessorequal1))"
   ]
  },
  {
   "cell_type": "markdown",
   "metadata": {},
   "source": [
    "## Hypergeometriska fördelningen"
   ]
  },
  {
   "cell_type": "code",
   "execution_count": 33,
   "metadata": {},
   "outputs": [],
   "source": [
    "from scipy.stats import hypergeom"
   ]
  },
  {
   "cell_type": "markdown",
   "metadata": {},
   "source": [
    "The hypergeometric distribution models drawing objects from a bin. **M** is the total number of objects, **n** is total number of Type I objects. The random variate represents the number of Type I objects in **N** drawn without replacement from the total population."
   ]
  },
  {
   "cell_type": "code",
   "execution_count": 34,
   "metadata": {},
   "outputs": [],
   "source": [
    "M = 10\n",
    "n = 2\n",
    "N = 5"
   ]
  },
  {
   "cell_type": "markdown",
   "metadata": {},
   "source": [
    "cdf(k, M, n, N, loc=0) (cumulative distribution function).   \n",
    "k: Количество успешных элементов, которые мы хотим учесть в выборке. В гипергеометрическом распределении это число не может быть больше n."
   ]
  },
  {
   "cell_type": "code",
   "execution_count": 35,
   "metadata": {},
   "outputs": [
    {
     "name": "stdout",
     "output_type": "stream",
     "text": [
      "P(X<=1) = 0.7777777777777777\n"
     ]
    }
   ],
   "source": [
    "probability = hypergeom.cdf(k=1, M=M, n=n, N=N)\n",
    "\n",
    "print ('P(X<=1) = ' + str(probability))"
   ]
  },
  {
   "cell_type": "markdown",
   "metadata": {},
   "source": [
    "## Geometriska fördelningen"
   ]
  },
  {
   "cell_type": "code",
   "execution_count": 36,
   "metadata": {},
   "outputs": [],
   "source": [
    "from scipy.stats import geom"
   ]
  },
  {
   "cell_type": "markdown",
   "metadata": {},
   "source": [
    "Функция geom.stats используется для вычисления статистических характеристик геометрического распределения. \n",
    "\n",
    "geom.stats(p, loc=0, moments=’mv’)  \n",
    "Mean(‘m’), variance(‘v’), skew(‘s’), and/or kurtosis(‘k’).\n",
    "\n",
    "p: Вероятность успеха в каждом испытании (то есть вероятность, что событие произойдет при одном испытании)."
   ]
  },
  {
   "cell_type": "code",
   "execution_count": 37,
   "metadata": {},
   "outputs": [],
   "source": [
    "p = 0.1"
   ]
  },
  {
   "cell_type": "markdown",
   "metadata": {},
   "source": [
    "stats(p, loc=0, moments=’mv’)\n",
    "\n",
    "Mean(‘m’), variance(‘v’), skew(‘s’), and/or kurtosis(‘k’)."
   ]
  },
  {
   "cell_type": "code",
   "execution_count": 38,
   "metadata": {},
   "outputs": [
    {
     "name": "stdout",
     "output_type": "stream",
     "text": [
      "Mean: 10.0\n"
     ]
    }
   ],
   "source": [
    "mean = geom.stats(p=p, moments = 'm')\n",
    "\n",
    "print ('Mean: ' + str(mean))"
   ]
  },
  {
   "cell_type": "markdown",
   "metadata": {},
   "source": [
    "pmf(k, p, loc=0)\n",
    "\n",
    "Probability mass function."
   ]
  },
  {
   "cell_type": "code",
   "execution_count": 39,
   "metadata": {},
   "outputs": [
    {
     "name": "stdout",
     "output_type": "stream",
     "text": [
      "P(X=4) = 0.0729\n"
     ]
    }
   ],
   "source": [
    "result = geom.pmf(k=4, p=p)\n",
    "\n",
    "print('P(X=4) = ' + str(result))"
   ]
  },
  {
   "cell_type": "code",
   "execution_count": 40,
   "metadata": {},
   "outputs": [
    {
     "name": "stdout",
     "output_type": "stream",
     "text": [
      "365.0 0.09900220255013223\n"
     ]
    }
   ],
   "source": [
    "mean = geom.stats(p=1/365, moments = 'm')\n",
    "ingroup = geom.cdf(p=1/365, k=38)\n",
    "\n",
    "print(mean, ingroup)"
   ]
  },
  {
   "cell_type": "code",
   "execution_count": 47,
   "metadata": {},
   "outputs": [],
   "source": [
    "import numpy as np\n",
    "import matplotlib.pyplot as plt"
   ]
  },
  {
   "cell_type": "code",
   "execution_count": 48,
   "metadata": {},
   "outputs": [
    {
     "data": {
      "image/png": "[encoded data removed]",
      "text/plain": [
       "<Figure size 300x200 with 1 Axes>"
      ]
     },
     "metadata": {},
     "output_type": "display_data"
    }
   ],
   "source": [
    "x = np.linspace(0, 10, 1000) # uses the NumPy library in Python to create an array of 1000 evenly spaced values between 0 and 10.\n",
    "y = geom.cdf(k=x, p=p) #counts value for each x\n",
    "\n",
    "fig,ax = plt.subplots()\n",
    "fig.set_figheight(2)\n",
    "fig.set_figwidth(3)\n",
    "plt.grid()\n",
    "\n",
    "ax.plot(x,y)\n",
    "plt.xlabel('Number of jobs applied for')\n",
    "plt.ylabel('Probability')\n",
    "plt.show()"
   ]
  },
  {
   "cell_type": "markdown",
   "metadata": {},
   "source": [
    "## Negativa binomialfördelningen"
   ]
  },
  {
   "cell_type": "code",
   "execution_count": 49,
   "metadata": {},
   "outputs": [],
   "source": [
    "from scipy.stats import nbinom"
   ]
  },
  {
   "cell_type": "code",
   "execution_count": null,
   "metadata": {},
   "outputs": [],
   "source": [
    "n=3\n",
    "p = 0.4"
   ]
  },
  {
   "cell_type": "code",
   "execution_count": 50,
   "metadata": {},
   "outputs": [
    {
     "name": "stdout",
     "output_type": "stream",
     "text": [
      "4.499999999999999 11.249999999999996\n"
     ]
    }
   ],
   "source": [
    "mean, var = nbinom.stats(n = 3, p=0.4)\n",
    "print (mean, var)"
   ]
  },
  {
   "cell_type": "markdown",
   "metadata": {},
   "source": [
    "pmf(k, n, p, loc=0)\n",
    "\n",
    "Probability mass function, where n is the number of successes, p is the probability of a single success, k - number of tries"
   ]
  },
  {
   "cell_type": "code",
   "execution_count": 51,
   "metadata": {},
   "outputs": [
    {
     "name": "stdout",
     "output_type": "stream",
     "text": [
      "P(X=7) = 0.03583180799999999\n"
     ]
    }
   ],
   "source": [
    "result = nbinom.pmf(n = n, p=0.4, k=7)\n",
    "\n",
    "print ('P(X=7) = ' + str (result))"
   ]
  }
 ],
 "metadata": {
  "kernelspec": {
   "display_name": "GitHub-ARbJjTr-",
   "language": "python",
   "name": "python3"
  },
  "language_info": {
   "codemirror_mode": {
    "name": "ipython",
    "version": 3
   },
   "file_extension": ".py",
   "mimetype": "text/x-python",
   "name": "python",
   "nbconvert_exporter": "python",
   "pygments_lexer": "ipython3",
   "version": "3.11.5"
  }
 },
 "nbformat": 4,
 "nbformat_minor": 2
}
